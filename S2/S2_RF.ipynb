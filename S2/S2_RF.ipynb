{
 "cells": [
  {
   "cell_type": "code",
   "execution_count": 1,
   "id": "75d074ef-2a84-4236-99e9-88da14d670c2",
   "metadata": {},
   "outputs": [
    {
     "name": "stderr",
     "output_type": "stream",
     "text": [
      "/tmp/ipykernel_2792068/2987754091.py:4: DeprecationWarning: \n",
      "Pyarrow will become a required dependency of pandas in the next major release of pandas (pandas 3.0),\n",
      "(to allow more performant data types, such as the Arrow string type, and better interoperability with other libraries)\n",
      "but was not found to be installed on your system.\n",
      "If this would cause problems for you,\n",
      "please provide us feedback at https://github.com/pandas-dev/pandas/issues/54466\n",
      "        \n",
      "  import pandas as pd\n"
     ]
    },
    {
     "name": "stdout",
     "output_type": "stream",
     "text": [
      "<class 'dict'>\n"
     ]
    },
    {
     "data": {
      "text/plain": [
       "{'signal': {'chest': {'ACC': array([[ 0.95539999, -0.222     , -0.55799997],\n",
       "          [ 0.92579997, -0.2216    , -0.55379999],\n",
       "          [ 0.90820003, -0.21960002, -0.53920001],\n",
       "          ...,\n",
       "          [ 0.87179995, -0.12379998, -0.30419999],\n",
       "          [ 0.87300003, -0.12339997, -0.30260003],\n",
       "          [ 0.87020004, -0.12199998, -0.30220002]]),\n",
       "   'ECG': array([[ 0.02142334],\n",
       "          [ 0.02032471],\n",
       "          [ 0.01652527],\n",
       "          ...,\n",
       "          [-0.00544739],\n",
       "          [ 0.00013733],\n",
       "          [ 0.0040741 ]]),\n",
       "   'EMG': array([[-0.00444031],\n",
       "          [ 0.00434875],\n",
       "          [ 0.00517273],\n",
       "          ...,\n",
       "          [-0.01716614],\n",
       "          [-0.02897644],\n",
       "          [-0.02357483]]),\n",
       "   'EDA': array([[5.25054932],\n",
       "          [5.26733398],\n",
       "          [5.24330139],\n",
       "          ...,\n",
       "          [0.36048889],\n",
       "          [0.36582947],\n",
       "          [0.365448  ]]),\n",
       "   'Temp': array([[30.120758],\n",
       "          [30.129517],\n",
       "          [30.138214],\n",
       "          ...,\n",
       "          [31.459229],\n",
       "          [31.484283],\n",
       "          [31.456268]], dtype=float32),\n",
       "   'Resp': array([[-1.14898682],\n",
       "          [-1.12457275],\n",
       "          [-1.15203857],\n",
       "          ...,\n",
       "          [-1.10321045],\n",
       "          [-1.08642578],\n",
       "          [-1.09710693]])},\n",
       "  'wrist': {'ACC': array([[ 62., -21., 107.],\n",
       "          [ 66.,  13.,  53.],\n",
       "          [ 41.,   9.,  15.],\n",
       "          ...,\n",
       "          [ 41.,  25.,  11.],\n",
       "          [ 39.,  27.,  22.],\n",
       "          [ 56.,  26.,  10.]]),\n",
       "   'BVP': array([[-59.37],\n",
       "          [-53.42],\n",
       "          [-44.4 ],\n",
       "          ...,\n",
       "          [ 18.26],\n",
       "          [ 18.68],\n",
       "          [ 19.71]]),\n",
       "   'EDA': array([[1.138257],\n",
       "          [1.125444],\n",
       "          [1.011405],\n",
       "          ...,\n",
       "          [0.059208],\n",
       "          [0.073303],\n",
       "          [0.045113]]),\n",
       "   'TEMP': array([[35.41],\n",
       "          [35.41],\n",
       "          [35.41],\n",
       "          ...,\n",
       "          [34.23],\n",
       "          [34.23],\n",
       "          [34.23]])}},\n",
       " 'label': array([0, 0, 0, ..., 0, 0, 0], dtype=int32),\n",
       " 'subject': 'S2'}"
      ]
     },
     "execution_count": 1,
     "metadata": {},
     "output_type": "execute_result"
    }
   ],
   "source": [
    "import os\n",
    "import pickle\n",
    "import numpy as np\n",
    "import pandas as pd\n",
    "import matplotlib\n",
    "import matplotlib.pyplot as plt\n",
    "\n",
    "# Reading data from the dataset\n",
    "subject = 'S2'\n",
    "subject_path = '/mnt/bst/spouriye/pshedag1/PranitaProject/Research Paper Project/WESAD'\n",
    "os.chdir(subject_path)\n",
    "os.chdir(subject)\n",
    "with open(subject + '.pkl', 'rb') as file:\n",
    "    subject_data = pickle.load(file, encoding='latin1')\n",
    "print(subject_data['subject'])\n",
    "subject_data['signal']['wrist']"
   ]
  },
  {
   "cell_type": "code",
   "execution_count": 2,
   "id": "870c15a6",
   "metadata": {},
   "outputs": [],
   "source": [
    "# Getting wrist and lables data-\n",
    "wrist_data = subject_data['signal']['wrist']\n",
    "labels_data = subject_data['label']"
   ]
  },
  {
   "cell_type": "code",
   "execution_count": 3,
   "id": "fdaafae3-c9b6-4a1a-b040-a1708b22acd7",
   "metadata": {},
   "outputs": [],
   "source": [
    "# Getting Wrist Data\n",
    "wrist_ACC_X = wrist_data['ACC'][:, 0]\n",
    "wrist_ACC_Y = wrist_data['ACC'][:, 1]\n",
    "wrist_ACC_Z = wrist_data['ACC'][:, 2]\n",
    "wrist_BVP = wrist_data['BVP'][:,0]\n",
    "wrist_EDA = wrist_data['EDA'][:,0]\n",
    "wrist_TEMP = wrist_data['TEMP'][:,0]"
   ]
  },
  {
   "cell_type": "code",
   "execution_count": 4,
   "id": "778af3dc-1ced-425e-883d-0a27fa3d1402",
   "metadata": {},
   "outputs": [
    {
     "name": "stdout",
     "output_type": "stream",
     "text": [
      "ACC 194528\n",
      "BVP 389056\n",
      "EDA 24316\n",
      "TEMP 24316\n"
     ]
    }
   ],
   "source": [
    "# printint the length of all wrist data\n",
    "for key, value in wrist_data.items():\n",
    "    print(key, len(value))"
   ]
  },
  {
   "cell_type": "code",
   "execution_count": 5,
   "id": "2fe5feea",
   "metadata": {},
   "outputs": [
    {
     "name": "stdout",
     "output_type": "stream",
     "text": [
      "lables 4255300\n"
     ]
    }
   ],
   "source": [
    "# printing the length of all lables data\n",
    "labels_data_length = len(labels_data)\n",
    "print('lables', labels_data_length)"
   ]
  },
  {
   "cell_type": "code",
   "execution_count": 6,
   "id": "653959c4-82b5-4229-a5d5-03da4efa28a6",
   "metadata": {},
   "outputs": [
    {
     "data": {
      "image/png": "[encoded data removed]",
      "text/plain": [
       "<Figure size 1000x600 with 1 Axes>"
      ]
     },
     "metadata": {},
     "output_type": "display_data"
    }
   ],
   "source": [
    "# Checking the data \n",
    "cols = [\"wrist_BVP\",\"wrist_EDA\",\"wrist_TEMP\"]\n",
    "y_axis = [len(wrist_BVP),len(wrist_EDA),len(wrist_TEMP)]\n",
    "plt.figure(figsize=(10, 6))\n",
    "plt.bar(cols, y_axis, color='burlywood')\n",
    "plt.xlabel('Length')\n",
    "plt.ylabel('Data Column')\n",
    "plt.title('Length of Data Columns')\n",
    "plt.show()"
   ]
  },
  {
   "cell_type": "code",
   "execution_count": 7,
   "id": "8095e3bf-9459-4f9b-86c0-5a9a1711b993",
   "metadata": {},
   "outputs": [],
   "source": [
    "downsample_factor_bvp = 64 // 4  # Downsampling factor from 64 Hz to 4 Hz\n",
    "w_bvp = wrist_BVP[::downsample_factor_bvp]"
   ]
  },
  {
   "cell_type": "code",
   "execution_count": 8,
   "id": "849f5bf6-cff4-4f1f-aabe-bf4980d395b3",
   "metadata": {},
   "outputs": [],
   "source": [
    "downsample_factor_labels = 700 // 4  # Downsampling factor from 700 Hz to 4 Hz\n",
    "labels = labels_data[::downsample_factor_labels]"
   ]
  },
  {
   "cell_type": "code",
   "execution_count": 9,
   "id": "b83fce0d-0e2c-4b26-87d9-952e72b3708c",
   "metadata": {},
   "outputs": [
    {
     "data": {
      "image/png": "[encoded data removed]",
      "text/plain": [
       "<Figure size 1000x600 with 1 Axes>"
      ]
     },
     "metadata": {},
     "output_type": "display_data"
    }
   ],
   "source": [
    "# Checking the data \n",
    "cols = [\"w_bvp\",\"wrist_EDA\",\"wrist_TEMP\", \"labels\"]\n",
    "y_axis = [len(w_bvp),len(wrist_EDA),len(wrist_TEMP), len(labels)]\n",
    "plt.figure(figsize=(10, 6))\n",
    "plt.bar(cols, y_axis, color='burlywood')\n",
    "plt.xlabel('Length')\n",
    "plt.ylabel('Data Column')\n",
    "plt.title('Length of Data Columns')\n",
    "plt.show()"
   ]
  },
  {
   "cell_type": "code",
   "execution_count": 10,
   "id": "c8327864-1c80-4dc0-861f-9428795a24fd",
   "metadata": {},
   "outputs": [
    {
     "data": {
      "text/html": [
       "<div>\n",
       "<style scoped>\n",
       "    .dataframe tbody tr th:only-of-type {\n",
       "        vertical-align: middle;\n",
       "    }\n",
       "\n",
       "    .dataframe tbody tr th {\n",
       "        vertical-align: top;\n",
       "    }\n",
       "\n",
       "    .dataframe thead th {\n",
       "        text-align: right;\n",
       "    }\n",
       "</style>\n",
       "<table border=\"1\" class=\"dataframe\">\n",
       "  <thead>\n",
       "    <tr style=\"text-align: right;\">\n",
       "      <th></th>\n",
       "      <th>w_bvp</th>\n",
       "      <th>wrist_EDA</th>\n",
       "      <th>wrist_TEMP</th>\n",
       "      <th>labels</th>\n",
       "    </tr>\n",
       "  </thead>\n",
       "  <tbody>\n",
       "    <tr>\n",
       "      <th>0</th>\n",
       "      <td>-59.37</td>\n",
       "      <td>1.138257</td>\n",
       "      <td>35.41</td>\n",
       "      <td>0</td>\n",
       "    </tr>\n",
       "    <tr>\n",
       "      <th>1</th>\n",
       "      <td>43.50</td>\n",
       "      <td>1.125444</td>\n",
       "      <td>35.41</td>\n",
       "      <td>0</td>\n",
       "    </tr>\n",
       "    <tr>\n",
       "      <th>2</th>\n",
       "      <td>53.56</td>\n",
       "      <td>1.011405</td>\n",
       "      <td>35.41</td>\n",
       "      <td>0</td>\n",
       "    </tr>\n",
       "    <tr>\n",
       "      <th>3</th>\n",
       "      <td>54.64</td>\n",
       "      <td>1.033188</td>\n",
       "      <td>35.41</td>\n",
       "      <td>0</td>\n",
       "    </tr>\n",
       "    <tr>\n",
       "      <th>4</th>\n",
       "      <td>-117.88</td>\n",
       "      <td>0.935807</td>\n",
       "      <td>35.41</td>\n",
       "      <td>0</td>\n",
       "    </tr>\n",
       "    <tr>\n",
       "      <th>...</th>\n",
       "      <td>...</td>\n",
       "      <td>...</td>\n",
       "      <td>...</td>\n",
       "      <td>...</td>\n",
       "    </tr>\n",
       "    <tr>\n",
       "      <th>24311</th>\n",
       "      <td>27.06</td>\n",
       "      <td>0.063052</td>\n",
       "      <td>34.21</td>\n",
       "      <td>0</td>\n",
       "    </tr>\n",
       "    <tr>\n",
       "      <th>24312</th>\n",
       "      <td>14.01</td>\n",
       "      <td>0.060489</td>\n",
       "      <td>34.23</td>\n",
       "      <td>0</td>\n",
       "    </tr>\n",
       "    <tr>\n",
       "      <th>24313</th>\n",
       "      <td>-0.43</td>\n",
       "      <td>0.059208</td>\n",
       "      <td>34.23</td>\n",
       "      <td>0</td>\n",
       "    </tr>\n",
       "    <tr>\n",
       "      <th>24314</th>\n",
       "      <td>-32.72</td>\n",
       "      <td>0.073303</td>\n",
       "      <td>34.23</td>\n",
       "      <td>0</td>\n",
       "    </tr>\n",
       "    <tr>\n",
       "      <th>24315</th>\n",
       "      <td>15.20</td>\n",
       "      <td>0.045113</td>\n",
       "      <td>34.23</td>\n",
       "      <td>0</td>\n",
       "    </tr>\n",
       "  </tbody>\n",
       "</table>\n",
       "<p>24316 rows × 4 columns</p>\n",
       "</div>"
      ],
      "text/plain": [
       "        w_bvp  wrist_EDA  wrist_TEMP  labels\n",
       "0      -59.37   1.138257       35.41       0\n",
       "1       43.50   1.125444       35.41       0\n",
       "2       53.56   1.011405       35.41       0\n",
       "3       54.64   1.033188       35.41       0\n",
       "4     -117.88   0.935807       35.41       0\n",
       "...       ...        ...         ...     ...\n",
       "24311   27.06   0.063052       34.21       0\n",
       "24312   14.01   0.060489       34.23       0\n",
       "24313   -0.43   0.059208       34.23       0\n",
       "24314  -32.72   0.073303       34.23       0\n",
       "24315   15.20   0.045113       34.23       0\n",
       "\n",
       "[24316 rows x 4 columns]"
      ]
     },
     "execution_count": 10,
     "metadata": {},
     "output_type": "execute_result"
    }
   ],
   "source": [
    "# Creating a pandas dataframe \n",
    "data = {\n",
    "    \"w_bvp\": w_bvp,\n",
    "    \"wrist_EDA\": wrist_EDA,\n",
    "    \"wrist_TEMP\": wrist_TEMP,\n",
    "    \"labels\": labels,\n",
    "}\n",
    "df = pd.DataFrame(data)\n",
    "df"
   ]
  },
  {
   "cell_type": "code",
   "execution_count": 11,
   "id": "d41fedcf-d2e0-43cf-84a9-1bf515bc6d8d",
   "metadata": {},
   "outputs": [
    {
     "data": {
      "text/plain": [
       "w_bvp         0\n",
       "wrist_EDA     0\n",
       "wrist_TEMP    0\n",
       "labels        0\n",
       "dtype: int64"
      ]
     },
     "execution_count": 11,
     "metadata": {},
     "output_type": "execute_result"
    }
   ],
   "source": [
    "df.isnull().sum()"
   ]
  },
  {
   "cell_type": "code",
   "execution_count": 12,
   "id": "2b037b28-783b-4b7c-8028-921979f500d0",
   "metadata": {
    "scrolled": true
   },
   "outputs": [
    {
     "data": {
      "text/plain": [
       "array([0, 1, 2, 6, 4, 3, 7], dtype=int32)"
      ]
     },
     "execution_count": 12,
     "metadata": {},
     "output_type": "execute_result"
    }
   ],
   "source": [
    "df['labels'].unique()"
   ]
  },
  {
   "cell_type": "code",
   "execution_count": 14,
   "id": "309b8641-58a2-48ed-b9df-024bdb23e583",
   "metadata": {},
   "outputs": [
    {
     "data": {
      "image/png": "[encoded data removed]",
      "text/plain": [
       "<Figure size 2000x2000 with 4 Axes>"
      ]
     },
     "metadata": {},
     "output_type": "display_data"
    }
   ],
   "source": [
    "import matplotlib.pyplot as plt\n",
    "\n",
    "df.hist(bins=50, figsize=(20,20))\n",
    "plt.show()"
   ]
  },
  {
   "cell_type": "code",
   "execution_count": 15,
   "id": "833a8879-9ae4-44f6-87b5-cf28dab7eb39",
   "metadata": {},
   "outputs": [],
   "source": [
    "# Applying Interqunatile range\n",
    "df_25 = df.quantile(0.25)\n",
    "df_75 = df.quantile(0.75)\n",
    "IQR = df_75 - df_25"
   ]
  },
  {
   "cell_type": "code",
   "execution_count": 16,
   "id": "df33e364-b37f-4fe7-b598-88e305a2fa2d",
   "metadata": {},
   "outputs": [],
   "source": [
    "upper = df_75 + 1.5 * IQR \n",
    "lower = df_25 - 1.5 * IQR"
   ]
  },
  {
   "cell_type": "code",
   "execution_count": 17,
   "id": "b3e59d7f-90e1-48dd-a80f-3bb03778d249",
   "metadata": {},
   "outputs": [
    {
     "data": {
      "text/plain": [
       "(18900, 4)"
      ]
     },
     "execution_count": 17,
     "metadata": {},
     "output_type": "execute_result"
    }
   ],
   "source": [
    "df_out = df[(df >= lower) & (df <= upper)].dropna()\n",
    "df_out.shape"
   ]
  },
  {
   "cell_type": "code",
   "execution_count": 18,
   "id": "fb8fcda2-d2ee-4642-826a-bb5819b9b83d",
   "metadata": {},
   "outputs": [
    {
     "data": {
      "text/plain": [
       "array([0., 1., 2., 4., 3.])"
      ]
     },
     "execution_count": 18,
     "metadata": {},
     "output_type": "execute_result"
    }
   ],
   "source": [
    "df_out['labels'].unique()"
   ]
  },
  {
   "cell_type": "code",
   "execution_count": 19,
   "id": "bc777680-9476-426a-a0ee-eaa92186bb7b",
   "metadata": {},
   "outputs": [
    {
     "data": {
      "text/plain": [
       "(9780, 4)"
      ]
     },
     "execution_count": 19,
     "metadata": {},
     "output_type": "execute_result"
    }
   ],
   "source": [
    "# removing unwanted lables values from the data\n",
    "remove = df_out['labels'].isin([0.0, 5.0, 6.0, 7.0])\n",
    "df_data = df_out[~remove]"
   ]
  },
  {
   "cell_type": "code",
   "execution_count": 20,
   "id": "fa589c32-197c-40aa-88d9-aa0e1c6d3679",
   "metadata": {},
   "outputs": [
    {
     "data": {
      "text/plain": [
       "array([1., 2., 4., 3.])"
      ]
     },
     "execution_count": 20,
     "metadata": {},
     "output_type": "execute_result"
    }
   ],
   "source": [
    "df_data['labels'].unique()"
   ]
  },
  {
   "cell_type": "code",
   "execution_count": 21,
   "id": "61dee382-0a2d-43a5-96f6-11a610c18b6e",
   "metadata": {},
   "outputs": [
    {
     "data": {
      "text/plain": [
       "w_bvp         0\n",
       "wrist_EDA     0\n",
       "wrist_TEMP    0\n",
       "labels        0\n",
       "dtype: int64"
      ]
     },
     "execution_count": 21,
     "metadata": {},
     "output_type": "execute_result"
    }
   ],
   "source": [
    "df_data.isnull().sum()"
   ]
  },
  {
   "cell_type": "code",
   "execution_count": 22,
   "id": "b1e96050-df22-443f-8ee9-d76eca9dd5d4",
   "metadata": {},
   "outputs": [],
   "source": [
    "# Separating, Feature and labels\n",
    "X = df_data.drop(['labels'], axis=1)\n",
    "Y = df_data['labels']"
   ]
  },
  {
   "cell_type": "code",
   "execution_count": 23,
   "id": "0e1dc4dd-af43-4ae6-b83c-4f7ea086be79",
   "metadata": {},
   "outputs": [
    {
     "data": {
      "text/plain": [
       "((5868, 3), (3912, 3), (5868,), (3912,))"
      ]
     },
     "execution_count": 23,
     "metadata": {},
     "output_type": "execute_result"
    }
   ],
   "source": [
    "from sklearn.model_selection import train_test_split\n",
    "# Mentionong stratify = Y to make sure target variable is evenly distributed amoung train and test\n",
    "trainX, testX, trainY, testY = train_test_split(X, Y, test_size=0.40, stratify=Y)"
   ]
  },
  {
   "cell_type": "code",
   "execution_count": 24,
   "id": "8fd45e71-2f4f-425b-b249-a6c97a9dae8a",
   "metadata": {},
   "outputs": [
    {
     "data": {
      "image/png": "[encoded data removed]",
      "text/plain": [
       "<Figure size 2000x2000 with 4 Axes>"
      ]
     },
     "metadata": {},
     "output_type": "display_data"
    }
   ],
   "source": [
    "import matplotlib.pyplot as plt\n",
    "\n",
    "trainX.hist(bins=50, figsize=(20,20))\n",
    "plt.show()"
   ]
  },
  {
   "cell_type": "code",
   "execution_count": 25,
   "id": "b9ccd214-cfc5-466c-ba58-7d23f246cb75",
   "metadata": {},
   "outputs": [
    {
     "data": {
      "text/plain": [
       "['w_bvp', 'wrist_EDA', 'wrist_TEMP']"
      ]
     },
     "execution_count": 25,
     "metadata": {},
     "output_type": "execute_result"
    }
   ],
   "source": [
    "num_cols = [column for column in trainX.columns if trainX[column].dtypes == np.float64 \n",
    "                or trainX[column].dtypes == np.int64 ]\n",
    "\n",
    "num_cols"
   ]
  },
  {
   "cell_type": "code",
   "execution_count": 26,
   "id": "821116a5-49e0-42d4-a88a-e7397af8acc5",
   "metadata": {},
   "outputs": [
    {
     "data": {
      "text/plain": [
       "(5868, 3)"
      ]
     },
     "execution_count": 26,
     "metadata": {},
     "output_type": "execute_result"
    }
   ],
   "source": [
    "#pipeline for numeric features\n",
    "from sklearn.pipeline import Pipeline\n",
    "from sklearn.preprocessing import StandardScaler\n",
    "from sklearn.compose import ColumnTransformer\n",
    "from sklearn.decomposition import PCA\n",
    "\n",
    "# Numeric Pipeline\n",
    "num_pipeline = Pipeline([\n",
    "    ('standardize', StandardScaler()),\n",
    "    ('pca', PCA(0.90))\n",
    "])\n",
    "\n",
    "#full pipeline - combine numeric\n",
    "full_pipeline = ColumnTransformer([\n",
    "    ('numeric', num_pipeline, num_cols)\n",
    "])\n",
    "\n",
    "trainX_prc = full_pipeline.fit_transform(trainX)\n",
    "testX_prc = full_pipeline.transform(testX)"
   ]
  },
  {
   "cell_type": "code",
   "execution_count": 27,
   "id": "8c40445a-6cb4-406a-93d0-b93d86733d04",
   "metadata": {},
   "outputs": [
    {
     "data": {
      "text/html": [
       "<style>#sk-container-id-1 {\n",
       "  /* Definition of color scheme common for light and dark mode */\n",
       "  --sklearn-color-text: black;\n",
       "  --sklearn-color-line: gray;\n",
       "  /* Definition of color scheme for unfitted estimators */\n",
       "  --sklearn-color-unfitted-level-0: #fff5e6;\n",
       "  --sklearn-color-unfitted-level-1: #f6e4d2;\n",
       "  --sklearn-color-unfitted-level-2: #ffe0b3;\n",
       "  --sklearn-color-unfitted-level-3: chocolate;\n",
       "  /* Definition of color scheme for fitted estimators */\n",
       "  --sklearn-color-fitted-level-0: #f0f8ff;\n",
       "  --sklearn-color-fitted-level-1: #d4ebff;\n",
       "  --sklearn-color-fitted-level-2: #b3dbfd;\n",
       "  --sklearn-color-fitted-level-3: cornflowerblue;\n",
       "\n",
       "  /* Specific color for light theme */\n",
       "  --sklearn-color-text-on-default-background: var(--sg-text-color, var(--theme-code-foreground, var(--jp-content-font-color1, black)));\n",
       "  --sklearn-color-background: var(--sg-background-color, var(--theme-background, var(--jp-layout-color0, white)));\n",
       "  --sklearn-color-border-box: var(--sg-text-color, var(--theme-code-foreground, var(--jp-content-font-color1, black)));\n",
       "  --sklearn-color-icon: #696969;\n",
       "\n",
       "  @media (prefers-color-scheme: dark) {\n",
       "    /* Redefinition of color scheme for dark theme */\n",
       "    --sklearn-color-text-on-default-background: var(--sg-text-color, var(--theme-code-foreground, var(--jp-content-font-color1, white)));\n",
       "    --sklearn-color-background: var(--sg-background-color, var(--theme-background, var(--jp-layout-color0, #111)));\n",
       "    --sklearn-color-border-box: var(--sg-text-color, var(--theme-code-foreground, var(--jp-content-font-color1, white)));\n",
       "    --sklearn-color-icon: #878787;\n",
       "  }\n",
       "}\n",
       "\n",
       "#sk-container-id-1 {\n",
       "  color: var(--sklearn-color-text);\n",
       "}\n",
       "\n",
       "#sk-container-id-1 pre {\n",
       "  padding: 0;\n",
       "}\n",
       "\n",
       "#sk-container-id-1 input.sk-hidden--visually {\n",
       "  border: 0;\n",
       "  clip: rect(1px 1px 1px 1px);\n",
       "  clip: rect(1px, 1px, 1px, 1px);\n",
       "  height: 1px;\n",
       "  margin: -1px;\n",
       "  overflow: hidden;\n",
       "  padding: 0;\n",
       "  position: absolute;\n",
       "  width: 1px;\n",
       "}\n",
       "\n",
       "#sk-container-id-1 div.sk-dashed-wrapped {\n",
       "  border: 1px dashed var(--sklearn-color-line);\n",
       "  margin: 0 0.4em 0.5em 0.4em;\n",
       "  box-sizing: border-box;\n",
       "  padding-bottom: 0.4em;\n",
       "  background-color: var(--sklearn-color-background);\n",
       "}\n",
       "\n",
       "#sk-container-id-1 div.sk-container {\n",
       "  /* jupyter's `normalize.less` sets `[hidden] { display: none; }`\n",
       "     but bootstrap.min.css set `[hidden] { display: none !important; }`\n",
       "     so we also need the `!important` here to be able to override the\n",
       "     default hidden behavior on the sphinx rendered scikit-learn.org.\n",
       "     See: https://github.com/scikit-learn/scikit-learn/issues/21755 */\n",
       "  display: inline-block !important;\n",
       "  position: relative;\n",
       "}\n",
       "\n",
       "#sk-container-id-1 div.sk-text-repr-fallback {\n",
       "  display: none;\n",
       "}\n",
       "\n",
       "div.sk-parallel-item,\n",
       "div.sk-serial,\n",
       "div.sk-item {\n",
       "  /* draw centered vertical line to link estimators */\n",
       "  background-image: linear-gradient(var(--sklearn-color-text-on-default-background), var(--sklearn-color-text-on-default-background));\n",
       "  background-size: 2px 100%;\n",
       "  background-repeat: no-repeat;\n",
       "  background-position: center center;\n",
       "}\n",
       "\n",
       "/* Parallel-specific style estimator block */\n",
       "\n",
       "#sk-container-id-1 div.sk-parallel-item::after {\n",
       "  content: \"\";\n",
       "  width: 100%;\n",
       "  border-bottom: 2px solid var(--sklearn-color-text-on-default-background);\n",
       "  flex-grow: 1;\n",
       "}\n",
       "\n",
       "#sk-container-id-1 div.sk-parallel {\n",
       "  display: flex;\n",
       "  align-items: stretch;\n",
       "  justify-content: center;\n",
       "  background-color: var(--sklearn-color-background);\n",
       "  position: relative;\n",
       "}\n",
       "\n",
       "#sk-container-id-1 div.sk-parallel-item {\n",
       "  display: flex;\n",
       "  flex-direction: column;\n",
       "}\n",
       "\n",
       "#sk-container-id-1 div.sk-parallel-item:first-child::after {\n",
       "  align-self: flex-end;\n",
       "  width: 50%;\n",
       "}\n",
       "\n",
       "#sk-container-id-1 div.sk-parallel-item:last-child::after {\n",
       "  align-self: flex-start;\n",
       "  width: 50%;\n",
       "}\n",
       "\n",
       "#sk-container-id-1 div.sk-parallel-item:only-child::after {\n",
       "  width: 0;\n",
       "}\n",
       "\n",
       "/* Serial-specific style estimator block */\n",
       "\n",
       "#sk-container-id-1 div.sk-serial {\n",
       "  display: flex;\n",
       "  flex-direction: column;\n",
       "  align-items: center;\n",
       "  background-color: var(--sklearn-color-background);\n",
       "  padding-right: 1em;\n",
       "  padding-left: 1em;\n",
       "}\n",
       "\n",
       "\n",
       "/* Toggleable style: style used for estimator/Pipeline/ColumnTransformer box that is\n",
       "clickable and can be expanded/collapsed.\n",
       "- Pipeline and ColumnTransformer use this feature and define the default style\n",
       "- Estimators will overwrite some part of the style using the `sk-estimator` class\n",
       "*/\n",
       "\n",
       "/* Pipeline and ColumnTransformer style (default) */\n",
       "\n",
       "#sk-container-id-1 div.sk-toggleable {\n",
       "  /* Default theme specific background. It is overwritten whether we have a\n",
       "  specific estimator or a Pipeline/ColumnTransformer */\n",
       "  background-color: var(--sklearn-color-background);\n",
       "}\n",
       "\n",
       "/* Toggleable label */\n",
       "#sk-container-id-1 label.sk-toggleable__label {\n",
       "  cursor: pointer;\n",
       "  display: block;\n",
       "  width: 100%;\n",
       "  margin-bottom: 0;\n",
       "  padding: 0.5em;\n",
       "  box-sizing: border-box;\n",
       "  text-align: center;\n",
       "}\n",
       "\n",
       "#sk-container-id-1 label.sk-toggleable__label-arrow:before {\n",
       "  /* Arrow on the left of the label */\n",
       "  content: \"▸\";\n",
       "  float: left;\n",
       "  margin-right: 0.25em;\n",
       "  color: var(--sklearn-color-icon);\n",
       "}\n",
       "\n",
       "#sk-container-id-1 label.sk-toggleable__label-arrow:hover:before {\n",
       "  color: var(--sklearn-color-text);\n",
       "}\n",
       "\n",
       "/* Toggleable content - dropdown */\n",
       "\n",
       "#sk-container-id-1 div.sk-toggleable__content {\n",
       "  max-height: 0;\n",
       "  max-width: 0;\n",
       "  overflow: hidden;\n",
       "  text-align: left;\n",
       "  /* unfitted */\n",
       "  background-color: var(--sklearn-color-unfitted-level-0);\n",
       "}\n",
       "\n",
       "#sk-container-id-1 div.sk-toggleable__content.fitted {\n",
       "  /* fitted */\n",
       "  background-color: var(--sklearn-color-fitted-level-0);\n",
       "}\n",
       "\n",
       "#sk-container-id-1 div.sk-toggleable__content pre {\n",
       "  margin: 0.2em;\n",
       "  border-radius: 0.25em;\n",
       "  color: var(--sklearn-color-text);\n",
       "  /* unfitted */\n",
       "  background-color: var(--sklearn-color-unfitted-level-0);\n",
       "}\n",
       "\n",
       "#sk-container-id-1 div.sk-toggleable__content.fitted pre {\n",
       "  /* unfitted */\n",
       "  background-color: var(--sklearn-color-fitted-level-0);\n",
       "}\n",
       "\n",
       "#sk-container-id-1 input.sk-toggleable__control:checked~div.sk-toggleable__content {\n",
       "  /* Expand drop-down */\n",
       "  max-height: 200px;\n",
       "  max-width: 100%;\n",
       "  overflow: auto;\n",
       "}\n",
       "\n",
       "#sk-container-id-1 input.sk-toggleable__control:checked~label.sk-toggleable__label-arrow:before {\n",
       "  content: \"▾\";\n",
       "}\n",
       "\n",
       "/* Pipeline/ColumnTransformer-specific style */\n",
       "\n",
       "#sk-container-id-1 div.sk-label input.sk-toggleable__control:checked~label.sk-toggleable__label {\n",
       "  color: var(--sklearn-color-text);\n",
       "  background-color: var(--sklearn-color-unfitted-level-2);\n",
       "}\n",
       "\n",
       "#sk-container-id-1 div.sk-label.fitted input.sk-toggleable__control:checked~label.sk-toggleable__label {\n",
       "  background-color: var(--sklearn-color-fitted-level-2);\n",
       "}\n",
       "\n",
       "/* Estimator-specific style */\n",
       "\n",
       "/* Colorize estimator box */\n",
       "#sk-container-id-1 div.sk-estimator input.sk-toggleable__control:checked~label.sk-toggleable__label {\n",
       "  /* unfitted */\n",
       "  background-color: var(--sklearn-color-unfitted-level-2);\n",
       "}\n",
       "\n",
       "#sk-container-id-1 div.sk-estimator.fitted input.sk-toggleable__control:checked~label.sk-toggleable__label {\n",
       "  /* fitted */\n",
       "  background-color: var(--sklearn-color-fitted-level-2);\n",
       "}\n",
       "\n",
       "#sk-container-id-1 div.sk-label label.sk-toggleable__label,\n",
       "#sk-container-id-1 div.sk-label label {\n",
       "  /* The background is the default theme color */\n",
       "  color: var(--sklearn-color-text-on-default-background);\n",
       "}\n",
       "\n",
       "/* On hover, darken the color of the background */\n",
       "#sk-container-id-1 div.sk-label:hover label.sk-toggleable__label {\n",
       "  color: var(--sklearn-color-text);\n",
       "  background-color: var(--sklearn-color-unfitted-level-2);\n",
       "}\n",
       "\n",
       "/* Label box, darken color on hover, fitted */\n",
       "#sk-container-id-1 div.sk-label.fitted:hover label.sk-toggleable__label.fitted {\n",
       "  color: var(--sklearn-color-text);\n",
       "  background-color: var(--sklearn-color-fitted-level-2);\n",
       "}\n",
       "\n",
       "/* Estimator label */\n",
       "\n",
       "#sk-container-id-1 div.sk-label label {\n",
       "  font-family: monospace;\n",
       "  font-weight: bold;\n",
       "  display: inline-block;\n",
       "  line-height: 1.2em;\n",
       "}\n",
       "\n",
       "#sk-container-id-1 div.sk-label-container {\n",
       "  text-align: center;\n",
       "}\n",
       "\n",
       "/* Estimator-specific */\n",
       "#sk-container-id-1 div.sk-estimator {\n",
       "  font-family: monospace;\n",
       "  border: 1px dotted var(--sklearn-color-border-box);\n",
       "  border-radius: 0.25em;\n",
       "  box-sizing: border-box;\n",
       "  margin-bottom: 0.5em;\n",
       "  /* unfitted */\n",
       "  background-color: var(--sklearn-color-unfitted-level-0);\n",
       "}\n",
       "\n",
       "#sk-container-id-1 div.sk-estimator.fitted {\n",
       "  /* fitted */\n",
       "  background-color: var(--sklearn-color-fitted-level-0);\n",
       "}\n",
       "\n",
       "/* on hover */\n",
       "#sk-container-id-1 div.sk-estimator:hover {\n",
       "  /* unfitted */\n",
       "  background-color: var(--sklearn-color-unfitted-level-2);\n",
       "}\n",
       "\n",
       "#sk-container-id-1 div.sk-estimator.fitted:hover {\n",
       "  /* fitted */\n",
       "  background-color: var(--sklearn-color-fitted-level-2);\n",
       "}\n",
       "\n",
       "/* Specification for estimator info (e.g. \"i\" and \"?\") */\n",
       "\n",
       "/* Common style for \"i\" and \"?\" */\n",
       "\n",
       ".sk-estimator-doc-link,\n",
       "a:link.sk-estimator-doc-link,\n",
       "a:visited.sk-estimator-doc-link {\n",
       "  float: right;\n",
       "  font-size: smaller;\n",
       "  line-height: 1em;\n",
       "  font-family: monospace;\n",
       "  background-color: var(--sklearn-color-background);\n",
       "  border-radius: 1em;\n",
       "  height: 1em;\n",
       "  width: 1em;\n",
       "  text-decoration: none !important;\n",
       "  margin-left: 1ex;\n",
       "  /* unfitted */\n",
       "  border: var(--sklearn-color-unfitted-level-1) 1pt solid;\n",
       "  color: var(--sklearn-color-unfitted-level-1);\n",
       "}\n",
       "\n",
       ".sk-estimator-doc-link.fitted,\n",
       "a:link.sk-estimator-doc-link.fitted,\n",
       "a:visited.sk-estimator-doc-link.fitted {\n",
       "  /* fitted */\n",
       "  border: var(--sklearn-color-fitted-level-1) 1pt solid;\n",
       "  color: var(--sklearn-color-fitted-level-1);\n",
       "}\n",
       "\n",
       "/* On hover */\n",
       "div.sk-estimator:hover .sk-estimator-doc-link:hover,\n",
       ".sk-estimator-doc-link:hover,\n",
       "div.sk-label-container:hover .sk-estimator-doc-link:hover,\n",
       ".sk-estimator-doc-link:hover {\n",
       "  /* unfitted */\n",
       "  background-color: var(--sklearn-color-unfitted-level-3);\n",
       "  color: var(--sklearn-color-background);\n",
       "  text-decoration: none;\n",
       "}\n",
       "\n",
       "div.sk-estimator.fitted:hover .sk-estimator-doc-link.fitted:hover,\n",
       ".sk-estimator-doc-link.fitted:hover,\n",
       "div.sk-label-container:hover .sk-estimator-doc-link.fitted:hover,\n",
       ".sk-estimator-doc-link.fitted:hover {\n",
       "  /* fitted */\n",
       "  background-color: var(--sklearn-color-fitted-level-3);\n",
       "  color: var(--sklearn-color-background);\n",
       "  text-decoration: none;\n",
       "}\n",
       "\n",
       "/* Span, style for the box shown on hovering the info icon */\n",
       ".sk-estimator-doc-link span {\n",
       "  display: none;\n",
       "  z-index: 9999;\n",
       "  position: relative;\n",
       "  font-weight: normal;\n",
       "  right: .2ex;\n",
       "  padding: .5ex;\n",
       "  margin: .5ex;\n",
       "  width: min-content;\n",
       "  min-width: 20ex;\n",
       "  max-width: 50ex;\n",
       "  color: var(--sklearn-color-text);\n",
       "  box-shadow: 2pt 2pt 4pt #999;\n",
       "  /* unfitted */\n",
       "  background: var(--sklearn-color-unfitted-level-0);\n",
       "  border: .5pt solid var(--sklearn-color-unfitted-level-3);\n",
       "}\n",
       "\n",
       ".sk-estimator-doc-link.fitted span {\n",
       "  /* fitted */\n",
       "  background: var(--sklearn-color-fitted-level-0);\n",
       "  border: var(--sklearn-color-fitted-level-3);\n",
       "}\n",
       "\n",
       ".sk-estimator-doc-link:hover span {\n",
       "  display: block;\n",
       "}\n",
       "\n",
       "/* \"?\"-specific style due to the `<a>` HTML tag */\n",
       "\n",
       "#sk-container-id-1 a.estimator_doc_link {\n",
       "  float: right;\n",
       "  font-size: 1rem;\n",
       "  line-height: 1em;\n",
       "  font-family: monospace;\n",
       "  background-color: var(--sklearn-color-background);\n",
       "  border-radius: 1rem;\n",
       "  height: 1rem;\n",
       "  width: 1rem;\n",
       "  text-decoration: none;\n",
       "  /* unfitted */\n",
       "  color: var(--sklearn-color-unfitted-level-1);\n",
       "  border: var(--sklearn-color-unfitted-level-1) 1pt solid;\n",
       "}\n",
       "\n",
       "#sk-container-id-1 a.estimator_doc_link.fitted {\n",
       "  /* fitted */\n",
       "  border: var(--sklearn-color-fitted-level-1) 1pt solid;\n",
       "  color: var(--sklearn-color-fitted-level-1);\n",
       "}\n",
       "\n",
       "/* On hover */\n",
       "#sk-container-id-1 a.estimator_doc_link:hover {\n",
       "  /* unfitted */\n",
       "  background-color: var(--sklearn-color-unfitted-level-3);\n",
       "  color: var(--sklearn-color-background);\n",
       "  text-decoration: none;\n",
       "}\n",
       "\n",
       "#sk-container-id-1 a.estimator_doc_link.fitted:hover {\n",
       "  /* fitted */\n",
       "  background-color: var(--sklearn-color-fitted-level-3);\n",
       "}\n",
       "</style><div id=\"sk-container-id-1\" class=\"sk-top-container\"><div class=\"sk-text-repr-fallback\"><pre>GridSearchCV(cv=10, estimator=RandomForestClassifier(),\n",
       "             param_grid=[{&#x27;max_depth&#x27;: [3, 5, 7], &#x27;max_features&#x27;: [5, 10, 15],\n",
       "                          &#x27;min_samples_leaf&#x27;: [1, 10, 20],\n",
       "                          &#x27;min_samples_split&#x27;: [2, 10, 20],\n",
       "                          &#x27;n_estimators&#x27;: [5, 10, 20]}],\n",
       "             return_train_score=True, scoring=&#x27;accuracy&#x27;)</pre><b>In a Jupyter environment, please rerun this cell to show the HTML representation or trust the notebook. <br />On GitHub, the HTML representation is unable to render, please try loading this page with nbviewer.org.</b></div><div class=\"sk-container\" hidden><div class=\"sk-item sk-dashed-wrapped\"><div class=\"sk-label-container\"><div class=\"sk-label fitted sk-toggleable\"><input class=\"sk-toggleable__control sk-hidden--visually\" id=\"sk-estimator-id-1\" type=\"checkbox\" ><label for=\"sk-estimator-id-1\" class=\"sk-toggleable__label fitted sk-toggleable__label-arrow fitted\">&nbsp;&nbsp;GridSearchCV<a class=\"sk-estimator-doc-link fitted\" rel=\"noreferrer\" target=\"_blank\" href=\"https://scikit-learn.org/1.4/modules/generated/sklearn.model_selection.GridSearchCV.html\">?<span>Documentation for GridSearchCV</span></a><span class=\"sk-estimator-doc-link fitted\">i<span>Fitted</span></span></label><div class=\"sk-toggleable__content fitted\"><pre>GridSearchCV(cv=10, estimator=RandomForestClassifier(),\n",
       "             param_grid=[{&#x27;max_depth&#x27;: [3, 5, 7], &#x27;max_features&#x27;: [5, 10, 15],\n",
       "                          &#x27;min_samples_leaf&#x27;: [1, 10, 20],\n",
       "                          &#x27;min_samples_split&#x27;: [2, 10, 20],\n",
       "                          &#x27;n_estimators&#x27;: [5, 10, 20]}],\n",
       "             return_train_score=True, scoring=&#x27;accuracy&#x27;)</pre></div> </div></div><div class=\"sk-parallel\"><div class=\"sk-parallel-item\"><div class=\"sk-item\"><div class=\"sk-label-container\"><div class=\"sk-label fitted sk-toggleable\"><input class=\"sk-toggleable__control sk-hidden--visually\" id=\"sk-estimator-id-2\" type=\"checkbox\" ><label for=\"sk-estimator-id-2\" class=\"sk-toggleable__label fitted sk-toggleable__label-arrow fitted\">estimator: RandomForestClassifier</label><div class=\"sk-toggleable__content fitted\"><pre>RandomForestClassifier()</pre></div> </div></div><div class=\"sk-serial\"><div class=\"sk-item\"><div class=\"sk-estimator fitted sk-toggleable\"><input class=\"sk-toggleable__control sk-hidden--visually\" id=\"sk-estimator-id-3\" type=\"checkbox\" ><label for=\"sk-estimator-id-3\" class=\"sk-toggleable__label fitted sk-toggleable__label-arrow fitted\">&nbsp;RandomForestClassifier<a class=\"sk-estimator-doc-link fitted\" rel=\"noreferrer\" target=\"_blank\" href=\"https://scikit-learn.org/1.4/modules/generated/sklearn.ensemble.RandomForestClassifier.html\">?<span>Documentation for RandomForestClassifier</span></a></label><div class=\"sk-toggleable__content fitted\"><pre>RandomForestClassifier()</pre></div> </div></div></div></div></div></div></div></div></div>"
      ],
      "text/plain": [
       "GridSearchCV(cv=10, estimator=RandomForestClassifier(),\n",
       "             param_grid=[{'max_depth': [3, 5, 7], 'max_features': [5, 10, 15],\n",
       "                          'min_samples_leaf': [1, 10, 20],\n",
       "                          'min_samples_split': [2, 10, 20],\n",
       "                          'n_estimators': [5, 10, 20]}],\n",
       "             return_train_score=True, scoring='accuracy')"
      ]
     },
     "execution_count": 27,
     "metadata": {},
     "output_type": "execute_result"
    }
   ],
   "source": [
    "from sklearn.ensemble import RandomForestClassifier\n",
    "from sklearn.model_selection import GridSearchCV\n",
    "\n",
    "param_grid = [{\n",
    "    'n_estimators' : [5, 10, 20],\n",
    "    'max_depth': [3, 5, 7],\n",
    "    'max_features' : [5, 10, 15],\n",
    "    'min_samples_split' : [2, 10, 20],\n",
    "    'min_samples_leaf' : [1, 10, 20]\n",
    "}]\n",
    "\n",
    "rf = RandomForestClassifier()\n",
    "\n",
    "grid_search = GridSearchCV(rf, param_grid, cv=10, scoring='accuracy', return_train_score=True)\n",
    "\n",
    "grid_search.fit(trainX_prc,trainY)"
   ]
  },
  {
   "cell_type": "code",
   "execution_count": 28,
   "id": "338aa1b4-8440-47fc-8113-8ca2f091afc0",
   "metadata": {},
   "outputs": [
    {
     "name": "stdout",
     "output_type": "stream",
     "text": [
      "{'max_depth': 7, 'max_features': 15, 'min_samples_leaf': 1, 'min_samples_split': 2, 'n_estimators': 10}\n",
      "0.9527917158455965\n"
     ]
    }
   ],
   "source": [
    "print(grid_search.best_params_)\n",
    "print(grid_search.best_score_) # accuracy"
   ]
  },
  {
   "cell_type": "code",
   "execution_count": 29,
   "id": "eb5a4b72-7dbb-4fd2-8705-a02bf3ce9c56",
   "metadata": {},
   "outputs": [],
   "source": [
    "best_rf = grid_search.best_estimator_"
   ]
  },
  {
   "cell_type": "code",
   "execution_count": 30,
   "id": "73b4d1d1-a9bc-40dd-9571-60049b14605a",
   "metadata": {},
   "outputs": [
    {
     "data": {
      "text/plain": [
       "0.9483640081799591"
      ]
     },
     "execution_count": 30,
     "metadata": {},
     "output_type": "execute_result"
    }
   ],
   "source": [
    "# Testing Score\n",
    "best_rf.score(testX_prc, testY)"
   ]
  },
  {
   "cell_type": "code",
   "execution_count": 31,
   "id": "5d634f32-471e-483f-b9f6-4efd173c35c1",
   "metadata": {},
   "outputs": [],
   "source": [
    "# Getting y prediction for testing data\n",
    "y_pred = best_rf.predict(testX_prc)"
   ]
  },
  {
   "cell_type": "code",
   "execution_count": 32,
   "id": "39b1c9d4-c2f5-421e-9ef6-70d8f314ea66",
   "metadata": {},
   "outputs": [
    {
     "name": "stdout",
     "output_type": "stream",
     "text": [
      "              precision    recall  f1-score   support\n",
      "\n",
      "         1.0       1.00      1.00      1.00      1563\n",
      "         2.0       1.00      1.00      1.00       593\n",
      "         3.0       0.90      0.71      0.80       549\n",
      "         4.0       0.88      0.96      0.92      1207\n",
      "\n",
      "    accuracy                           0.95      3912\n",
      "   macro avg       0.95      0.92      0.93      3912\n",
      "weighted avg       0.95      0.95      0.95      3912\n",
      "\n"
     ]
    }
   ],
   "source": [
    "# Classification Report\n",
    "from sklearn.metrics import classification_report\n",
    "print(classification_report(testY, y_pred))"
   ]
  },
  {
   "cell_type": "code",
   "execution_count": 33,
   "id": "3d6a1279-c5cc-4fd3-b117-ec0143986a9f",
   "metadata": {},
   "outputs": [
    {
     "name": "stdout",
     "output_type": "stream",
     "text": [
      "              precision    recall  f1-score   support\n",
      "\n",
      "         1.0       1.00      1.00      1.00      1563\n",
      "         2.0       1.00      1.00      1.00       593\n",
      "         3.0       0.90      0.71      0.80       549\n",
      "         4.0       0.88      0.96      0.92      1207\n",
      "\n",
      "    accuracy                           0.95      3912\n",
      "   macro avg       0.95      0.92      0.93      3912\n",
      "weighted avg       0.95      0.95      0.95      3912\n",
      "\n"
     ]
    }
   ],
   "source": [
    "# Classification Report\n",
    "from sklearn.metrics import classification_report\n",
    "print(classification_report(testY, y_pred))"
   ]
  },
  {
   "cell_type": "code",
   "execution_count": 34,
   "id": "33c564f7-bae6-4ecb-9026-58c26d32cb7f",
   "metadata": {},
   "outputs": [
    {
     "data": {
      "text/plain": [
       "array([[1563,    0,    0,    0],\n",
       "       [   2,  591,    0,    0],\n",
       "       [   0,    0,  392,  157],\n",
       "       [   0,    0,   43, 1164]])"
      ]
     },
     "execution_count": 34,
     "metadata": {},
     "output_type": "execute_result"
    }
   ],
   "source": [
    "from matplotlib import pyplot as plt\n",
    "from sklearn.metrics import confusion_matrix\n",
    "\n",
    "conf_mx = confusion_matrix(testY, y_pred)\n",
    "conf_mx"
   ]
  },
  {
   "cell_type": "code",
   "execution_count": 35,
   "id": "b41ba751-419f-402d-ae9a-bfaa6a1d6b27",
   "metadata": {},
   "outputs": [
    {
     "name": "stderr",
     "output_type": "stream",
     "text": [
      "/tmp/ipykernel_2792068/3430290375.py:8: UserWarning: set_ticklabels() should only be used with a fixed number of ticks, i.e. after set_ticks() or using a FixedLocator.\n",
      "  ax.set_xticklabels([''] + target)\n",
      "/tmp/ipykernel_2792068/3430290375.py:9: UserWarning: set_ticklabels() should only be used with a fixed number of ticks, i.e. after set_ticks() or using a FixedLocator.\n",
      "  ax.set_yticklabels([''] + target)  # Set labels for y-axis\n"
     ]
    },
    {
     "data": {
      "image/png": "[encoded data removed]",
      "text/plain": [
       "<Figure size 800x800 with 2 Axes>"
      ]
     },
     "metadata": {},
     "output_type": "display_data"
    }
   ],
   "source": [
    "target = [1., 2., 3., 4.]\n",
    "def plot_confusion_matrix(matrix, target):\n",
    "    \"\"\"Displaying with color bar\"\"\"\n",
    "    fig = plt.figure(figsize=(8,8))\n",
    "    ax = fig.add_subplot(111)\n",
    "    cax = ax.matshow(matrix)\n",
    "    fig.colorbar(cax)\n",
    "    ax.set_xticklabels([''] + target)  \n",
    "    ax.set_yticklabels([''] + target)  # Set labels for y-axis\n",
    "\n",
    "    for i in range(len(matrix)):\n",
    "        for j in range(len(matrix[i])):\n",
    "            ax.text(j, i, str(matrix[i][j]), va='center', ha='center', color='white')\n",
    "\n",
    "plot_confusion_matrix(conf_mx, target)\n",
    "plt.show()"
   ]
  },
  {
   "cell_type": "code",
   "execution_count": null,
   "id": "165e6a30-a3e7-46e2-b121-dcc786f7ba8f",
   "metadata": {},
   "outputs": [],
   "source": []
  }
 ],
 "metadata": {
  "kernelspec": {
   "display_name": "Python 3 (ipykernel)",
   "language": "python",
   "name": "python3"
  },
  "language_info": {
   "codemirror_mode": {
    "name": "ipython",
    "version": 3
   },
   "file_extension": ".py",
   "mimetype": "text/x-python",
   "name": "python",
   "nbconvert_exporter": "python",
   "pygments_lexer": "ipython3",
   "version": "3.10.12"
  }
 },
 "nbformat": 4,
 "nbformat_minor": 5
}
